{
  "nbformat": 4,
  "nbformat_minor": 0,
  "metadata": {
    "colab": {
      "provenance": []
    },
    "kernelspec": {
      "name": "python3",
      "display_name": "Python 3"
    },
    "language_info": {
      "name": "python"
    }
  },
  "cells": [
    {
      "cell_type": "code",
      "execution_count": 1,
      "metadata": {
        "colab": {
          "base_uri": "https://localhost:8080/"
        },
        "id": "aMj3Mep5HQID",
        "outputId": "441f1589-81ae-4a5a-84b4-9143ff079163"
      },
      "outputs": [
        {
          "output_type": "stream",
          "name": "stdout",
          "text": [
            "Instance count: 2, Class count: 3\n",
            "Instance count: 1, Class count: 3\n"
          ]
        }
      ],
      "source": [
        "class Counter:\n",
        "    count = 0\n",
        "\n",
        "    def __init__(self):\n",
        "        self._count = 0\n",
        "    def increment(self):\n",
        "        self._count += 1\n",
        "        Counter.count += 1\n",
        "\n",
        "    def get_counts(self):\n",
        "        return f\"Instance count: {self._count}, Class count: {Counter.count}\"\n",
        "\n",
        "\n",
        "a = Counter()\n",
        "b = Counter()\n",
        "#increment\n",
        "a.increment()\n",
        "a.increment()\n",
        "b.increment()\n",
        "\n",
        "# Printing the counts\n",
        "print(a.get_counts())  # Output for instance 'a'\n",
        "print(b.get_counts())  # Output for instance 'b'"
      ]
    },
    {
      "cell_type": "code",
      "source": [
        "def sum_all(*args):\n",
        "    return sum(args)\n",
        "\n",
        "print(\"sum of 1, 2, 3 is:\", sum_all(1, 2, 3))\n",
        "print(\"sum of 4, 5, 6, 7 is:\", sum_all(4, 5, 6, 7))"
      ],
      "metadata": {
        "colab": {
          "base_uri": "https://localhost:8080/"
        },
        "id": "dJSrnE7MJQED",
        "outputId": "f430eed4-c95f-4ce6-b5ef-d37fd2154401"
      },
      "execution_count": 2,
      "outputs": [
        {
          "output_type": "stream",
          "name": "stdout",
          "text": [
            "sum of 1, 2, 3 is: 6\n",
            "sum of 4, 5, 6, 7 is: 22\n"
          ]
        }
      ]
    },
    {
      "cell_type": "code",
      "source": [
        "def first_word(words_list):\n",
        "    words_list.sort()\n",
        "    return words_list[0]\n",
        "\n",
        "students = ['John', 'Arya', 'Jimmy', 'Jessie', 'Pavan', 'Kumar']\n",
        "print(first_word(students))"
      ],
      "metadata": {
        "colab": {
          "base_uri": "https://localhost:8080/"
        },
        "id": "5D7Mgi1zJXYZ",
        "outputId": "38d5bf29-4607-4fba-ea0c-5770319c5628"
      },
      "execution_count": 5,
      "outputs": [
        {
          "output_type": "stream",
          "name": "stdout",
          "text": [
            "Arya\n"
          ]
        }
      ]
    },
    {
      "cell_type": "code",
      "source": [
        "class Employee:\n",
        "    # Class variable to keep track of the number of employees\n",
        "    employee_count = 0\n",
        "\n",
        "    def __init__(self, name, family, salary, department):\n",
        "        self.name = name\n",
        "        self.family = family\n",
        "        self.salary = salary\n",
        "        self.department = department\n",
        "        # Increment the employee count when a new instance is created\n",
        "        Employee.employee_count += 1\n",
        "\n",
        "    @staticmethod\n",
        "    def average_salary(employees):\n",
        "        if not employees:\n",
        "            return 0\n",
        "        total_salary = sum(emp.salary for emp in employees)\n",
        "        return total_salary / len(employees)\n",
        "\n",
        "    def __str__(self):\n",
        "        return f\"Employee(Name: {self.name}, Family: {self.family}, Salary: {self.salary}, Department: {self.department})\"\n",
        "\n",
        "class FulltimeEmployee(Employee):\n",
        "    def __init__(self, name, family, salary, department, benefits):\n",
        "        super().__init__(name, family, salary, department)\n",
        "        self.benefits = benefits\n",
        "\n",
        "    def __str__(self):\n",
        "        return f\"FulltimeEmployee(Name: {self.name}, Family: {self.family}, Salary: {self.salary}, Department: {self.department}, Benefits: {self.benefits})\"\n",
        "\n",
        "# Creating instances of Employee and FulltimeEmployee\n",
        "emp1 = Employee(\"pavan\", \"Ballu\", 36700, \"HR\")\n",
        "emp2 = Employee(\"Jack\", \"Hugh\", 40000, \"IT\")\n",
        "emp3 = FulltimeEmployee(\"Martin\", \"Luther\", 120000, \"Finance\", \"Health Insurance\")\n",
        "\n",
        "# List of employees to calculate average salary\n",
        "employees = [emp1, emp2, emp3]\n",
        "\n",
        "# Print details of each employee\n",
        "print(emp1)\n",
        "print(emp2)\n",
        "print(emp3)\n",
        "\n",
        "# Calculate and print average salary\n",
        "average_salary = Employee.average_salary(employees)\n",
        "print(f\"Average Salary: {average_salary}\")\n",
        "\n",
        "# Print the total number of employees\n",
        "print(f\"Total Number of Employees: {Employee.employee_count}\")"
      ],
      "metadata": {
        "colab": {
          "base_uri": "https://localhost:8080/"
        },
        "id": "XGFUbfPQJoZg",
        "outputId": "a316f5e7-d6ad-4f21-adcf-d4b1790c43d8"
      },
      "execution_count": 6,
      "outputs": [
        {
          "output_type": "stream",
          "name": "stdout",
          "text": [
            "Employee(Name: pavan, Family: Ballu, Salary: 36700, Department: HR)\n",
            "Employee(Name: Jack, Family: Hugh, Salary: 40000, Department: IT)\n",
            "FulltimeEmployee(Name: Martin, Family: Luther, Salary: 120000, Department: Finance, Benefits: Health Insurance)\n",
            "Average Salary: 65566.66666666667\n",
            "Total Number of Employees: 3\n"
          ]
        }
      ]
    }
  ]
}