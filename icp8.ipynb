{
  "nbformat": 4,
  "nbformat_minor": 0,
  "metadata": {
    "colab": {
      "provenance": []
    },
    "kernelspec": {
      "name": "python3",
      "display_name": "Python 3"
    },
    "language_info": {
      "name": "python"
    }
  },
  "cells": [
    {
      "cell_type": "code",
      "execution_count": null,
      "metadata": {
        "id": "7kWmVIWqaH6J"
      },
      "outputs": [],
      "source": [
        "#1\n",
        "from pyspark import SparkContext\n",
        "\n",
        "sc = SparkContext(\"local\", \"Natural Numbers\")\n",
        "rdd = sc.parallelize(range(1, 16))\n"
      ]
    },
    {
      "cell_type": "code",
      "source": [
        "#2\n",
        "print(rdd.collect())  # Show elements\n",
        "print(rdd.getNumPartitions())  # Number of partitions\n"
      ],
      "metadata": {
        "colab": {
          "base_uri": "https://localhost:8080/"
        },
        "id": "YtVRUPBRalI9",
        "outputId": "fc73255c-5726-4d78-fead-da4a1d6ba30c"
      },
      "execution_count": null,
      "outputs": [
        {
          "output_type": "stream",
          "name": "stdout",
          "text": [
            "[1, 2, 3, 4, 5, 6, 7, 8, 9, 10, 11, 12, 13, 14, 15]\n",
            "1\n"
          ]
        }
      ]
    },
    {
      "cell_type": "code",
      "source": [
        "#3\n",
        "first_element = rdd.first()\n",
        "print(first_element)\n"
      ],
      "metadata": {
        "colab": {
          "base_uri": "https://localhost:8080/"
        },
        "id": "o_uTbpIzatZ6",
        "outputId": "349791d7-5115-49b9-8eaa-4ccc47a2902b"
      },
      "execution_count": null,
      "outputs": [
        {
          "output_type": "stream",
          "name": "stdout",
          "text": [
            "1\n"
          ]
        }
      ]
    },
    {
      "cell_type": "code",
      "source": [
        "#4\n",
        "even_rdd = rdd.filter(lambda x: x % 2 == 0)\n",
        "print(even_rdd.collect())\n",
        "\n"
      ],
      "metadata": {
        "colab": {
          "base_uri": "https://localhost:8080/"
        },
        "id": "pOa5CF3fa6K7",
        "outputId": "1bd7639b-593d-4415-a2ce-b221e0b7fb97"
      },
      "execution_count": null,
      "outputs": [
        {
          "output_type": "stream",
          "name": "stdout",
          "text": [
            "[2, 4, 6, 8, 10, 12, 14]\n"
          ]
        }
      ]
    },
    {
      "cell_type": "code",
      "source": [
        "#5\n",
        "squared_rdd = rdd.map(lambda x: x ** 2)\n",
        "print(squared_rdd.collect())\n",
        "\n"
      ],
      "metadata": {
        "colab": {
          "base_uri": "https://localhost:8080/"
        },
        "id": "EcFKltMea-Nj",
        "outputId": "230471b0-6268-4c83-ea95-84a36485d249"
      },
      "execution_count": null,
      "outputs": [
        {
          "output_type": "stream",
          "name": "stdout",
          "text": [
            "[1, 4, 9, 16, 25, 36, 49, 64, 81, 100, 121, 144, 169, 196, 225]\n"
          ]
        }
      ]
    },
    {
      "cell_type": "code",
      "source": [
        "#6\n",
        "sum_of_elements = rdd.reduce(lambda x, y: x + y)\n",
        "print(sum_of_elements)\n"
      ],
      "metadata": {
        "colab": {
          "base_uri": "https://localhost:8080/"
        },
        "id": "S0-5W6G6bD8S",
        "outputId": "a4e898a8-cd62-48a5-b872-22895ab80db6"
      },
      "execution_count": null,
      "outputs": [
        {
          "output_type": "stream",
          "name": "stdout",
          "text": [
            "120\n"
          ]
        }
      ]
    },
    {
      "cell_type": "code",
      "source": [
        "#7\n",
        "rdd.saveAsTextFile(\"natural_numbers.txt\")\n"
      ],
      "metadata": {
        "id": "5JjcGvLVbHo6"
      },
      "execution_count": null,
      "outputs": []
    },
    {
      "cell_type": "code",
      "source": [
        "#8\n",
        "rdd1 = sc.parallelize([1, 2, 3])\n",
        "rdd2 = sc.parallelize([4, 5, 6])\n",
        "combined_rdd = rdd1.union(rdd2)\n",
        "print(combined_rdd.collect())\n"
      ],
      "metadata": {
        "colab": {
          "base_uri": "https://localhost:8080/"
        },
        "id": "ODzAaqxYbMlT",
        "outputId": "cf35b719-b8ca-4262-e005-7fedb7e637bc"
      },
      "execution_count": null,
      "outputs": [
        {
          "output_type": "stream",
          "name": "stdout",
          "text": [
            "[1, 2, 3, 4, 5, 6]\n"
          ]
        }
      ]
    },
    {
      "cell_type": "code",
      "source": [
        "#9\n",
        "cartesian_rdd = rdd1.cartesian(rdd2)\n",
        "print(cartesian_rdd.collect())\n"
      ],
      "metadata": {
        "colab": {
          "base_uri": "https://localhost:8080/"
        },
        "id": "tWHR-vyQbQmS",
        "outputId": "1d3ecfde-ab2f-4ee2-8d5b-9235fdbbd004"
      },
      "execution_count": null,
      "outputs": [
        {
          "output_type": "stream",
          "name": "stdout",
          "text": [
            "[(1, 4), (1, 5), (1, 6), (2, 4), (2, 5), (2, 6), (3, 4), (3, 5), (3, 6)]\n"
          ]
        }
      ]
    },
    {
      "cell_type": "code",
      "source": [
        "#10\n",
        "dict_rdd = sc.parallelize([{'a': 1}, {'b': 2}, {'c': 3}])\n",
        "print(dict_rdd.collect())\n"
      ],
      "metadata": {
        "colab": {
          "base_uri": "https://localhost:8080/"
        },
        "id": "nlV2XY9-bUwT",
        "outputId": "7ed91f41-dc65-47a1-f764-b1e5df42e401"
      },
      "execution_count": null,
      "outputs": [
        {
          "output_type": "stream",
          "name": "stdout",
          "text": [
            "[{'a': 1}, {'b': 2}, {'c': 3}]\n"
          ]
        }
      ]
    },
    {
      "cell_type": "code",
      "source": [
        "#11\n",
        "count_rdd = dict_rdd.flatMap(lambda x: x.items()).map(lambda x: (x[0], 1)).reduceByKey(lambda x, y: x + y)\n",
        "print(count_rdd.collect())\n"
      ],
      "metadata": {
        "colab": {
          "base_uri": "https://localhost:8080/"
        },
        "id": "lwuKGXtKbZ1j",
        "outputId": "6d8a6896-e1ec-4680-d8fd-c1a978478fa4"
      },
      "execution_count": null,
      "outputs": [
        {
          "output_type": "stream",
          "name": "stdout",
          "text": [
            "[('a', 1), ('b', 1), ('c', 1)]\n"
          ]
        }
      ]
    },
    {
      "cell_type": "code",
      "source": [
        "#12\n",
        "\n",
        "# Alternatively, if you want to specify files directly\n",
        "rdd = sc.textFile(\"apple.txt\").union(sc.textFile(\"ant.txt\"))\n",
        "print(\"Combined_data:\", rdd.collect())\n"
      ],
      "metadata": {
        "colab": {
          "base_uri": "https://localhost:8080/"
        },
        "id": "IXtKV2jnbfzT",
        "outputId": "646b7e7f-fcf5-4f4f-b5c8-86a91f673350"
      },
      "execution_count": null,
      "outputs": [
        {
          "output_type": "stream",
          "name": "stdout",
          "text": [
            "Combined_data: ['apple', 'ball', 'cat', 'dog', 'ant', 'ball', 'cat', 'dog']\n"
          ]
        }
      ]
    },
    {
      "cell_type": "code",
      "source": [
        "#13\n",
        "from pyspark import SparkContext\n",
        "\n",
        "# Instead of creating a new SparkContext, get the existing one\n",
        "# sc = SparkContext(\"local\", \"Inspect First 5 Lines\")\n",
        "sc = SparkContext.getOrCreate()\n",
        "\n",
        "# Create an RDD by reading from a text file\n",
        "rdd = sc.textFile(\"ant.txt\")\n",
        "\n",
        "# Use the take() method to get the first 5 lines\n",
        "first_5_lines = rdd.take(5)\n",
        "\n",
        "# Print the first 5 lines\n",
        "for line in first_5_lines:\n",
        "    print(line)\n",
        "\n",
        "# Stop the SparkContext\n",
        "# It's generally recommended to stop the SparkContext only at the very end.\n",
        "# If you stop it here, you won't be able to use it in subsequent cells.\n",
        "# sc.stop()"
      ],
      "metadata": {
        "colab": {
          "base_uri": "https://localhost:8080/"
        },
        "id": "rfhv0lpRdnqx",
        "outputId": "5082ec88-14fa-4b52-cd5c-19bb53877744"
      },
      "execution_count": null,
      "outputs": [
        {
          "output_type": "stream",
          "name": "stdout",
          "text": [
            "ant\n",
            "ball\n",
            "cat\n",
            "dog\n"
          ]
        }
      ]
    },
    {
      "cell_type": "code",
      "source": [
        "#14\n",
        "from pyspark.sql import SparkSession\n",
        "\n",
        "# Initialize Spark Session\n",
        "spark = SparkSession.builder.appName(\"Example\").getOrCreate()\n",
        "\n",
        "# Create DataFrame\n",
        "data = [(\"Alce\", 1), (\"Boby\", 2), (\"Cathy\", 3)]\n",
        "columns = [\"Name\", \"Id\"]\n",
        "df = spark.createDataFrame(data, schema=columns)\n",
        "\n",
        "# Show DataFrame\n",
        "df.show()\n",
        "\n",
        "# In PySpark, DataFrames are technically Datasets, but here's how you would create one if using Scala:\n",
        "# val ds = df.as[YourCaseClass] // In Scala for a strong type Dataset\n"
      ],
      "metadata": {
        "colab": {
          "base_uri": "https://localhost:8080/"
        },
        "id": "Fm2Ugqjrcbbd",
        "outputId": "fdbea165-9a06-4494-9a5b-8819b162a543"
      },
      "execution_count": null,
      "outputs": [
        {
          "output_type": "stream",
          "name": "stdout",
          "text": [
            "+-----+---+\n",
            "| Name| Id|\n",
            "+-----+---+\n",
            "| Alce|  1|\n",
            "| Boby|  2|\n",
            "|Cathy|  3|\n",
            "+-----+---+\n",
            "\n"
          ]
        }
      ]
    },
    {
      "cell_type": "code",
      "source": [
        "\n",
        "#15from pyspark.sql import SparkSession\n",
        "\n",
        "spark = SparkSession.builder.master(\"local\").appName(\"RDDExample\").getOrCreate()\n",
        "rdd = spark.sparkContext.parallelize([1, 2, 3, 4, 5])\n",
        "result_rdd = rdd.map(lambda x: x * 2).collect()\n",
        "print(result_rdd)\n"
      ],
      "metadata": {
        "colab": {
          "base_uri": "https://localhost:8080/"
        },
        "id": "qtOMJePzcvd2",
        "outputId": "b2273f56-0c31-4681-f827-bcfd398b8638"
      },
      "execution_count": null,
      "outputs": [
        {
          "output_type": "stream",
          "name": "stdout",
          "text": [
            "[2, 4, 6, 8, 10]\n"
          ]
        }
      ]
    },
    {
      "cell_type": "code",
      "source": [
        "from pyspark.sql import SparkSession\n",
        "from pyspark.sql.functions import col\n",
        "\n",
        "spark = SparkSession.builder.master(\"local\").appName(\"DataFrameExample\").getOrCreate()\n",
        "data = [(1, \"Alice\"), (2, \"Bob\"), (3, \"Charlie\")]\n",
        "df = spark.createDataFrame(data, [\"id\", \"name\"])\n",
        "df_mapped = df.withColumn(\"id_double\", col(\"id\") * 2)\n",
        "df_mapped.show()\n"
      ],
      "metadata": {
        "colab": {
          "base_uri": "https://localhost:8080/"
        },
        "id": "WHZDKQHzlCpC",
        "outputId": "086a8a52-3199-4ee1-a012-f282ce317488"
      },
      "execution_count": null,
      "outputs": [
        {
          "output_type": "stream",
          "name": "stdout",
          "text": [
            "+---+-------+---------+\n",
            "| id|   name|id_double|\n",
            "+---+-------+---------+\n",
            "|  1|  Alice|        2|\n",
            "|  2|    Bob|        4|\n",
            "|  3|Charlie|        6|\n",
            "+---+-------+---------+\n",
            "\n"
          ]
        }
      ]
    },
    {
      "cell_type": "code",
      "source": [
        "# In PySpark, DataFrame is already a Dataset"
      ],
      "metadata": {
        "id": "z7UUN2UslHhJ"
      },
      "execution_count": null,
      "outputs": []
    }
  ]
}